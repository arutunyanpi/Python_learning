{
 "cells": [
  {
   "cell_type": "code",
   "execution_count": 3,
   "id": "9d019ca7",
   "metadata": {},
   "outputs": [
    {
     "name": "stdout",
     "output_type": "stream",
     "text": [
      "м\n",
      "е\n"
     ]
    }
   ],
   "source": [
    "from War_and_Piece import S as w_p\n",
    "print(w_p[100])\n",
    "print(w_p[122])"
   ]
  },
  {
   "cell_type": "code",
   "execution_count": 4,
   "id": "81d4e446",
   "metadata": {},
   "outputs": [
    {
     "name": "stdout",
     "output_type": "stream",
     "text": [
      "\n",
      "Пьер после сватовства князя Андрея и Наташи, без всякой очевидной причины, вдруг почувствовал невозможность продолжать прежнюю жизнь. Как ни твердо он был убежден в истинах, открытых ему его благодетелем, как ни радостно было ему то первое время увлечения внутренней работой самосовершенствования, которой он предался с таким жаром, — после помолвки князя Андрея с Наташей и после смерти Иосифа Алексеевича, о которой он получил известие почти в то же время, вся прелесть этой прежней жизни вдруг пропала для него. Остался один остов жизни: его дом с блестящею женою, пользовавшеюся теперь милостями одного важного лица, знакомство со всем Петербургом и служба с скучными формальностями. И эта прежняя жизнь вдруг с неожиданной мерзостью представилась Пьеру. Он перестал писать свой дневник, избегал общества братьев, стал опять ездить в клуб, стал опять много пить, опять сблизился с холостыми компаниями и начал вести такую жизнь, что графиня Елена Васильевна сочла нужным сделать ему строгое заме\n",
      "е\n"
     ]
    }
   ],
   "source": [
    "print(w_p[:1000])\n",
    "\n",
    "print(w_p[122])"
   ]
  },
  {
   "cell_type": "code",
   "execution_count": 5,
   "id": "b241707b",
   "metadata": {},
   "outputs": [
    {
     "name": "stdout",
     "output_type": "stream",
     "text": [
      "е\n"
     ]
    }
   ],
   "source": [
    "print(w_p[122])"
   ]
  },
  {
   "cell_type": "code",
   "execution_count": null,
   "id": "03ddfe63",
   "metadata": {},
   "outputs": [],
   "source": []
  }
 ],
 "metadata": {
  "kernelspec": {
   "display_name": "Python 3 (ipykernel)",
   "language": "python",
   "name": "python3"
  },
  "language_info": {
   "codemirror_mode": {
    "name": "ipython",
    "version": 3
   },
   "file_extension": ".py",
   "mimetype": "text/x-python",
   "name": "python",
   "nbconvert_exporter": "python",
   "pygments_lexer": "ipython3",
   "version": "3.10.10"
  }
 },
 "nbformat": 4,
 "nbformat_minor": 5
}

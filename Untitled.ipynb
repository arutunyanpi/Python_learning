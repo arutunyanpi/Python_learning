{
 "cells": [
  {
   "cell_type": "markdown",
   "id": "17eef033",
   "metadata": {},
   "source": [
    "# "
   ]
  },
  {
   "cell_type": "code",
   "execution_count": 7,
   "id": "4cf82363",
   "metadata": {},
   "outputs": [
    {
     "name": "stdout",
     "output_type": "stream",
     "text": [
      "52\n",
      "HJBFNBVNV\n",
      "hj\n"
     ]
    }
   ],
   "source": [
    "week_counter = 365//7\n",
    "print (week_counter)\n",
    "#Ghbjcd v\n",
    "S=\"hjbfnbvnv\"\n",
    "print(S.upper())\n",
    "print(S[0:2])\n"
   ]
  },
  {
   "cell_type": "code",
   "execution_count": null,
   "id": "847b2c88",
   "metadata": {},
   "outputs": [],
   "source": []
  }
 ],
 "metadata": {
  "kernelspec": {
   "display_name": "Python 3 (ipykernel)",
   "language": "python",
   "name": "python3"
  },
  "language_info": {
   "codemirror_mode": {
    "name": "ipython",
    "version": 3
   },
   "file_extension": ".py",
   "mimetype": "text/x-python",
   "name": "python",
   "nbconvert_exporter": "python",
   "pygments_lexer": "ipython3",
   "version": "3.10.10"
  }
 },
 "nbformat": 4,
 "nbformat_minor": 5
}
